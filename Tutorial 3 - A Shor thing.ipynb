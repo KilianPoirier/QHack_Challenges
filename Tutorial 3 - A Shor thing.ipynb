{
 "cells": [
  {
   "cell_type": "code",
   "execution_count": 2,
   "metadata": {},
   "outputs": [],
   "source": [
    "import json\n",
    "import pennylane as qml\n",
    "import pennylane.numpy as np"
   ]
  },
  {
   "cell_type": "code",
   "execution_count": 8,
   "metadata": {},
   "outputs": [],
   "source": [
    "n_qubits = 9\n",
    "dev = qml.device(\"default.qubit\", wires=n_qubits)\n",
    "error_dict = {0: 'PauliX', 1: 'PauliY', 2: 'PauliZ'}\n",
    "\n",
    "def error(error_key, qubit):\n",
    "    \"\"\"Defines the error that is induced in the circuit.\n",
    "\n",
    "    Args:\n",
    "        error_key (int): An integer associated to the type of error (Pauli X, Y, or Z)\n",
    "        qubit (int): The qubit that the error occurs on.\n",
    "    \"\"\"\n",
    "    getattr(qml, error_dict[error_key])(qubit)\n",
    "\n",
    "@qml.qnode(dev)\n",
    "def shor(state, error_key, qubit):\n",
    "    \"\"\"A circuit defining Shor's code for error correction.\n",
    "\n",
    "    Args:\n",
    "        state (list(float)): The quantum state of the first qubit in the circuit.\n",
    "        error_key (int): An integer associated to the type of error (Pauli X, Y, or Z)\n",
    "        qubit (int): The qubit that the error occurs on.\n",
    "\n",
    "    Returns:\n",
    "        (list(float)): The expectation value of the Pauli Z operator on every qubit.\n",
    "    \"\"\"\n",
    "    qml.QubitStateVector(np.array(state), wires=0)\n",
    "\n",
    "        # Create the Shor encoding circuit\n",
    "    qml.CNOT(wires=[0,3])\n",
    "    qml.CNOT(wires=[0,6])\n",
    "    for i in range(3):\n",
    "        qml.Hadamard(wires=3*i)\n",
    "        qml.CNOT(wires=[3*i,3*i+1])\n",
    "        qml.CNOT(wires=[3*i,3*i+2])\n",
    "    \n",
    "    # Apply the error\n",
    "    error(error_key, qubit)\n",
    "    \n",
    "    # Decode Shor's encoding\n",
    "    for i in range(3):\n",
    "        qml.CNOT(wires=[3*i,3*i+1])\n",
    "        qml.CNOT(wires=[3*i, 3*i+2])\n",
    "        qml.Toffoli(wires=[3*i+1,3*i+2,3*i])\n",
    "        qml.Hadamard(wires=3*i)\n",
    "    qml.CNOT(wires=[0,3])\n",
    "    qml.CNOT(wires=[0,6])\n",
    "    qml.Toffoli(wires=[6,3,0])\n",
    "    \n",
    "    return [qml.expval(qml.PauliZ(i)) for i in range(n_qubits)]"
   ]
  },
  {
   "cell_type": "code",
   "execution_count": 9,
   "metadata": {},
   "outputs": [],
   "source": [
    "# These functions are responsible for testing the solution.\n",
    "def run(test_case_input: str) -> str:\n",
    "    state, error_key, qubit = json.loads(test_case_input)\n",
    "    output = shor(state, error_key, qubit).tolist()\n",
    "\n",
    "    return str(output)\n",
    "\n",
    "def check(solution_output: str, expected_output: str) -> None:\n",
    "    solution_output = json.loads(solution_output)\n",
    "    expected_output = json.loads(expected_output)\n",
    "\n",
    "    assert np.allclose(solution_output, expected_output, rtol=1e-4)"
   ]
  },
  {
   "cell_type": "code",
   "execution_count": 10,
   "metadata": {},
   "outputs": [],
   "source": [
    "test_cases = [['[[0, 1], 0, 3]', '[-1.0,  1.0,  1.0,  1.0, -1.0, -1.0,  1.0,  1.0,  1.0]']]"
   ]
  },
  {
   "cell_type": "code",
   "execution_count": 11,
   "metadata": {},
   "outputs": [
    {
     "name": "stdout",
     "output_type": "stream",
     "text": [
      "Running test case 0 with input '[[0, 1], 0, 3]'...\n",
      "Correct!\n"
     ]
    }
   ],
   "source": [
    "for i, (input_, expected_output) in enumerate(test_cases):\n",
    "    print(f\"Running test case {i} with input '{input_}'...\")\n",
    "\n",
    "    try:\n",
    "        output = run(input_)\n",
    "\n",
    "    except Exception as exc:\n",
    "        print(f\"Runtime Error. {exc}\")\n",
    "\n",
    "    else:\n",
    "        if message := check(output, expected_output):\n",
    "            print(f\"Wrong Answer. Have: '{output}'. Want: '{expected_output}'.\")\n",
    "\n",
    "        else:\n",
    "            print(\"Correct!\")"
   ]
  },
  {
   "cell_type": "code",
   "execution_count": null,
   "metadata": {},
   "outputs": [],
   "source": []
  }
 ],
 "metadata": {
  "kernelspec": {
   "display_name": "pennylane",
   "language": "python",
   "name": "pennylane"
  },
  "language_info": {
   "codemirror_mode": {
    "name": "ipython",
    "version": 3
   },
   "file_extension": ".py",
   "mimetype": "text/x-python",
   "name": "python",
   "nbconvert_exporter": "python",
   "pygments_lexer": "ipython3",
   "version": "3.8.10"
  },
  "orig_nbformat": 4,
  "vscode": {
   "interpreter": {
    "hash": "916dbcbb3f70747c44a77c7bcd40155683ae19c65e1c03b4aa3499c5328201f1"
   }
  }
 },
 "nbformat": 4,
 "nbformat_minor": 2
}
