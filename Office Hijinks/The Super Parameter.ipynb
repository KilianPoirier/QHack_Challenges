{
 "cells": [
  {
   "cell_type": "code",
   "execution_count": 1,
   "metadata": {},
   "outputs": [],
   "source": [
    "import json\n",
    "import pennylane as qml\n",
    "import pennylane.numpy as np"
   ]
  },
  {
   "cell_type": "code",
   "execution_count": 2,
   "metadata": {},
   "outputs": [],
   "source": [
    "dev = qml.device(\"default.qubit\", wires=3)\n",
    "\n",
    "# We choose to take alpha such that it represents the binary value of the basis vector e.g. 1 => |001>\n",
    "# The parameter is still coninuous\n",
    "\n",
    "@qml.qnode(dev)\n",
    "def model(alpha):\n",
    "    \"\"\"In this qnode you will define your model in such a way that there is a single \n",
    "    parameter alpha which returns each of the basic states.\n",
    "\n",
    "    Args:\n",
    "        alpha (float): The only parameter of the model.\n",
    "\n",
    "    Returns:\n",
    "        (numpy.tensor): The probability vector of the resulting quantum state.\n",
    "    \"\"\"\n",
    "    # We choose alpha, beta and gamma through the following relation\n",
    "    if alpha < 1:\n",
    "        beta = 0\n",
    "        gamma = 0\n",
    "    elif alpha >= 1 and alpha < 2:\n",
    "        beta = alpha - 1\n",
    "        gamma = 0\n",
    "    elif alpha >= 2 and alpha < 3:\n",
    "        beta = 1\n",
    "        gamma = 0\n",
    "    elif alpha >= 3 and alpha < 4:\n",
    "        beta = 4 - alpha\n",
    "        gamma = alpha - 3\n",
    "    elif alpha >= 4 and alpha < 5:\n",
    "        beta = 0\n",
    "        gamma = 1\n",
    "    elif alpha >= 5 and alpha < 6:\n",
    "        beta = alpha - 5\n",
    "        gamma = 1\n",
    "    elif alpha >= 6 and alpha < 7:\n",
    "        beta = 1\n",
    "        gamma = 1\n",
    "    else:\n",
    "        beta = 1\n",
    "        gamma = 1\n",
    "\n",
    "    qml.RX(np.pi*alpha, wires=2)\n",
    "    qml.RX(np.pi*beta, wires=1)\n",
    "    qml.RX(np.pi*gamma, wires=0)\n",
    "\n",
    "    return qml.probs(wires=range(3))\n",
    "\n",
    "def generate_coefficients():\n",
    "    \"\"\"This function must return a list of 8 different values of the parameter that\n",
    "    generate the states 000, 001, 010, ..., 111, respectively, with your ansatz.\n",
    "\n",
    "    Returns:\n",
    "        (list(int)): A list of eight real numbers.\n",
    "    \"\"\"\n",
    "    return [i for i in range(8)]"
   ]
  },
  {
   "cell_type": "code",
   "execution_count": 3,
   "metadata": {},
   "outputs": [],
   "source": [
    "# These functions are responsible for testing the solution.\n",
    "def run(test_case_input: str) -> str:\n",
    "    return None\n",
    "\n",
    "def check(solution_output, expected_output: str) -> None:\n",
    "    coefs = generate_coefficients()\n",
    "    output = np.array([model(c) for c in coefs])\n",
    "    epsilon = 0.001\n",
    "\n",
    "    for i in range(len(coefs)):\n",
    "        assert np.isclose(output[i][i], 1)\n",
    "\n",
    "    def is_continuous(function, point):\n",
    "        limit = calculate_limit(function, point)\n",
    "\n",
    "        if limit is not None and sum(abs(limit - function(point))) < epsilon:\n",
    "            return True\n",
    "        else:\n",
    "            return False\n",
    "\n",
    "    def is_continuous_in_interval(function, interval):\n",
    "        for point in interval:\n",
    "            if not is_continuous(function, point):\n",
    "                return False\n",
    "        return True\n",
    "\n",
    "    def calculate_limit(function, point):\n",
    "        x_values = [point - epsilon, point, point + epsilon]\n",
    "        y_values = [function(x) for x in x_values]\n",
    "        average = sum(y_values) / len(y_values)\n",
    "\n",
    "        return average\n",
    "\n",
    "    assert is_continuous_in_interval(model, np.arange(0,10,0.001))\n",
    "\n",
    "    for coef in coefs:\n",
    "        assert coef >= 0 and coef <= 10"
   ]
  },
  {
   "cell_type": "code",
   "execution_count": 4,
   "metadata": {},
   "outputs": [],
   "source": [
    "test_cases = [['No input', 'No output']]"
   ]
  },
  {
   "cell_type": "code",
   "execution_count": 6,
   "metadata": {},
   "outputs": [
    {
     "name": "stdout",
     "output_type": "stream",
     "text": [
      "Running test case 0 with input 'No input'...\n",
      "Correct!\n"
     ]
    }
   ],
   "source": [
    "for i, (input_, expected_output) in enumerate(test_cases):\n",
    "    print(f\"Running test case {i} with input '{input_}'...\")\n",
    "\n",
    "    try:\n",
    "        output = run(input_)\n",
    "\n",
    "    except Exception as exc:\n",
    "        print(f\"Runtime Error. {exc}\")\n",
    "\n",
    "    else:\n",
    "        if message := check(output, expected_output):\n",
    "            print(f\"Wrong Answer. Have: '{output}'. Want: '{expected_output}'.\")\n",
    "\n",
    "        else:\n",
    "            print(\"Correct!\")"
   ]
  },
  {
   "cell_type": "code",
   "execution_count": null,
   "metadata": {},
   "outputs": [],
   "source": []
  }
 ],
 "metadata": {
  "kernelspec": {
   "display_name": "pennylane",
   "language": "python",
   "name": "pennylane"
  },
  "language_info": {
   "codemirror_mode": {
    "name": "ipython",
    "version": 3
   },
   "file_extension": ".py",
   "mimetype": "text/x-python",
   "name": "python",
   "nbconvert_exporter": "python",
   "pygments_lexer": "ipython3",
   "version": "3.8.10"
  },
  "orig_nbformat": 4,
  "vscode": {
   "interpreter": {
    "hash": "916dbcbb3f70747c44a77c7bcd40155683ae19c65e1c03b4aa3499c5328201f1"
   }
  }
 },
 "nbformat": 4,
 "nbformat_minor": 2
}
