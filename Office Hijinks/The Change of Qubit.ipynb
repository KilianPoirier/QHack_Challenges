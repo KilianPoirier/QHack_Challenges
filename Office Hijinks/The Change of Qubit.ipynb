{
 "cells": [
  {
   "cell_type": "code",
   "execution_count": 1,
   "metadata": {},
   "outputs": [],
   "source": [
    "import json\n",
    "import pennylane as qml\n",
    "import pennylane.numpy as np"
   ]
  },
  {
   "cell_type": "code",
   "execution_count": 22,
   "metadata": {},
   "outputs": [],
   "source": [
    "def circuit_left():\n",
    "    \"\"\"\n",
    "    This function corresponds to the circuit on the left-hand side of the diagram in the \n",
    "    description. Simply place the necessary operations, you do not have to return anything.\n",
    "    \"\"\"\n",
    "    # Implement the 3-qubit bit-flip error correction code\n",
    "\n",
    "    qml.CNOT([0,1])\n",
    "    qml.SWAP(wires=[1,2])\n",
    "    qml.CNOT(wires=[0,1])\n",
    "    qml.SWAP(wires=[1,2])\n",
    "\n",
    "def circuit_right():\n",
    "    \"\"\"\n",
    "    This function corresponds to the circuit on the right-hand side of the diagram in the \n",
    "    description. Simply place the necessary operations, you do not have to return anything.\n",
    "    \"\"\"\n",
    "    # Implement the 3-qubit bit-flip error correction code\n",
    "\n",
    "    qml.CNOT(wires=[0,1])\n",
    "    # Apply CNOT([1,2])\n",
    "    qml.SWAP(wires=[1,2])\n",
    "    qml.CNOT(wires=[0,1])\n",
    "    qml.SWAP(wires=[1,2])\n",
    "    \n",
    "    # Apply Toffoli([1,2,0])\n",
    "    qml.Hadamard([0])\n",
    "    qml.CNOT(wires=[1,0])\n",
    "    qml.adjoint(qml.T(wires=[0]))\n",
    "    qml.SWAP([1,2])\n",
    "    qml.CNOT(wires=[1,0])\n",
    "    qml.SWAP([1,2])\n",
    "    qml.T(wires=[0])\n",
    "    qml.CNOT(wires=[1,0])\n",
    "    qml.adjoint(qml.T(wires=[0]))\n",
    "    qml.SWAP([1,2])\n",
    "    qml.CNOT(wires=[1,0])\n",
    "    qml.SWAP([1,2])\n",
    "    qml.T(wires=[0])\n",
    "    qml.T(wires=[1])\n",
    "    qml.Hadamard(wires=[0])\n",
    "    qml.CNOT([2,1])\n",
    "    qml.T(wires=[2])\n",
    "    qml.adjoint(qml.T(wires=[1]))\n",
    "    qml.CNOT([2,1])\n",
    "\n",
    "    # Apply ~SWAP([0,2])\n",
    "    qml.SWAP(wires=[0,1])\n",
    "    qml.SWAP(wires=[1,2])\n"
   ]
  },
  {
   "cell_type": "code",
   "execution_count": 23,
   "metadata": {},
   "outputs": [],
   "source": [
    "def U():\n",
    "    \"\"\"This operator generates a PauliX gate on a random qubit\"\"\"\n",
    "    qml.PauliX(wires=np.random.randint(3))\n",
    "\n",
    "\n",
    "dev = qml.device(\"default.qubit\", wires=3)\n",
    "\n",
    "@qml.qnode(dev)\n",
    "def circuit(alpha, beta, gamma):\n",
    "    \"\"\"Total circuit joining each block.\n",
    "\n",
    "    Args: \n",
    "        alpha (float): The first parameter of a U3 gate.\n",
    "        beta (float):The second parameter of a U3 gate. \n",
    "        gamma (float): The third parameter of a U3 gate. \n",
    "    \n",
    "    Returns:\n",
    "        (float): The expectation value of an observable.\n",
    "    \"\"\"\n",
    "    qml.U3(alpha, beta, gamma, wires=0)\n",
    "    circuit_left()\n",
    "    U()\n",
    "    circuit_right()\n",
    "\n",
    "    # Here we are returning the expected value with respect to any observable,\n",
    "    # the choice of observable is not important in this exercise.\n",
    "\n",
    "    return qml.expval(0.5 * qml.PauliZ(2) - qml.PauliY(2))"
   ]
  },
  {
   "cell_type": "code",
   "execution_count": 24,
   "metadata": {},
   "outputs": [],
   "source": [
    "# These functions are responsible for testing the solution.\n",
    "def run(test_case_input: str) -> str:\n",
    "    angles = json.loads(test_case_input)\n",
    "    output = circuit(*angles)\n",
    "    return str(output)\n",
    "\n",
    "def check(solution_output: str, expected_output: str) -> None:\n",
    "\n",
    "    solution_output = json.loads(solution_output)\n",
    "    expected_output = json.loads(expected_output)\n",
    "    assert np.allclose(\n",
    "        solution_output, expected_output, atol=2e-1\n",
    "    ), \"The expected output is not quite right.\"\n",
    "\n",
    "    ops = circuit.tape.operations\n",
    "\n",
    "    for op in ops:\n",
    "        assert not (0 in op.wires and 2 in op.wires), \"Invalid connection between qubits.\"\n",
    "\n",
    "    assert circuit.tape.observables[0].wires == qml.wires.Wires(2), \"Measurement on wrong qubit.\""
   ]
  },
  {
   "cell_type": "code",
   "execution_count": 25,
   "metadata": {},
   "outputs": [],
   "source": [
    "test_cases = [['[2.0,1.0,3.0]', '-0.97322'], ['[-0.5,1.2,-1.2]', '0.88563'], ['[0.22,3.0,2.1]', '0.457152'], ['[2.22,3.1,-3.3]', '-0.335397'], ['[-0.2,-0.1,3.4]', '0.470199'], ['[-1.2,-1.1,0.4]', '-0.6494612']]"
   ]
  },
  {
   "cell_type": "code",
   "execution_count": 26,
   "metadata": {},
   "outputs": [
    {
     "name": "stdout",
     "output_type": "stream",
     "text": [
      "Running test case 0 with input '[2.0,1.0,3.0]'...\n",
      "Correct!\n",
      "Running test case 1 with input '[-0.5,1.2,-1.2]'...\n",
      "Correct!\n",
      "Running test case 2 with input '[0.22,3.0,2.1]'...\n",
      "Correct!\n",
      "Running test case 3 with input '[2.22,3.1,-3.3]'...\n",
      "Correct!\n",
      "Running test case 4 with input '[-0.2,-0.1,3.4]'...\n",
      "Correct!\n",
      "Running test case 5 with input '[-1.2,-1.1,0.4]'...\n",
      "Correct!\n"
     ]
    }
   ],
   "source": [
    "for i, (input_, expected_output) in enumerate(test_cases):\n",
    "    print(f\"Running test case {i} with input '{input_}'...\")\n",
    "\n",
    "    try:\n",
    "        output = run(input_)\n",
    "\n",
    "    except Exception as exc:\n",
    "        print(f\"Runtime Error. {exc}\")\n",
    "\n",
    "    else:\n",
    "        if message := check(output, expected_output):\n",
    "            print(f\"Wrong Answer. Have: '{output}'. Want: '{expected_output}'.\")\n",
    "\n",
    "        else:\n",
    "            print(\"Correct!\")"
   ]
  },
  {
   "cell_type": "code",
   "execution_count": null,
   "metadata": {},
   "outputs": [],
   "source": []
  }
 ],
 "metadata": {
  "kernelspec": {
   "display_name": "pennylane",
   "language": "python",
   "name": "pennylane"
  },
  "orig_nbformat": 4,
  "vscode": {
   "interpreter": {
    "hash": "916dbcbb3f70747c44a77c7bcd40155683ae19c65e1c03b4aa3499c5328201f1"
   }
  }
 },
 "nbformat": 4,
 "nbformat_minor": 2
}
