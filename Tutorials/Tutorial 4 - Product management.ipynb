{
 "cells": [
  {
   "cell_type": "code",
   "execution_count": 1,
   "metadata": {},
   "outputs": [],
   "source": [
    "import json\n",
    "import pennylane as qml\n",
    "import pennylane.numpy as np"
   ]
  },
  {
   "cell_type": "code",
   "execution_count": 2,
   "metadata": {},
   "outputs": [],
   "source": [
    "def is_product(state, subsystem, wires):\n",
    "    \"\"\"Determines if a pure quantum state can be written as a product state between \n",
    "    a subsystem of wires and their compliment.\n",
    "\n",
    "    Args:\n",
    "        state (numpy.array): The quantum state of interest.\n",
    "        subsystem (list(int)): The subsystem used to determine if the state is a product state.\n",
    "        wires (list(int)): The wire/qubit labels for the state. Use these for creating a QNode if you wish!\n",
    "\n",
    "    Returns:\n",
    "        (str): \"yes\" if the state is a product state or \"no\" if it isn't.\n",
    "    \"\"\"\n",
    "        \n",
    "    # Find the reduced density matrix of any subsystem\n",
    "    @qml.qnode(device=qml.device(\"default.qubit\", wires=len(wires)))\n",
    "    def subset_circuit(w):\n",
    "        qml.QubitStateVector(np.array(state), wires=wires)\n",
    "        return qml.density_matrix(wires=w)\n",
    "\n",
    "    # Compute the indices of the remaining subsystem\n",
    "    subsystem_bar = [w for w in wires if w not in subsystem]\n",
    "\n",
    "    # Compute the reduced density matrices of the two subsystems of interest\n",
    "    density_matrix_subsystem = subset_circuit(subsystem)\n",
    "    density_matrix_subsystem_bar = subset_circuit(subsystem_bar)\n",
    "\n",
    "    # Reconstruct a density matrix assuming a product state\n",
    "    @qml.qnode(device=qml.device(\"default.mixed\", wires=len(wires)))\n",
    "    def product_circuit():\n",
    "        qml.QubitDensityMatrix(density_matrix_subsystem, wires=subsystem)\n",
    "        qml.QubitDensityMatrix(density_matrix_subsystem_bar, wires=subsystem_bar)\n",
    "        return qml.density_matrix(wires)\n",
    "\n",
    "    product_state = product_circuit()\n",
    "    initial_state = subset_circuit(wires)\n",
    "        \n",
    "    # Compare the product state of the partial traces and the input density matrix\n",
    "    if np.allclose(product_state, initial_state, rtol=1e-5, atol=1e-8):\n",
    "        is_product_str = \"yes\"\n",
    "    else:\n",
    "        is_product_str = \"no\"\n",
    "    \n",
    "    return is_product_str"
   ]
  },
  {
   "cell_type": "code",
   "execution_count": 3,
   "metadata": {},
   "outputs": [],
   "source": [
    "# These functions are responsible for testing the solution.\n",
    "def run(test_case_input: str) -> str:\n",
    "    ins = json.loads(test_case_input)\n",
    "    state, subsystem, wires = ins\n",
    "    state = np.array(state)\n",
    "    output = is_product(state, subsystem, wires)\n",
    "    return output\n",
    "\n",
    "def check(solution_output: str, expected_output: str) -> None:\n",
    "    assert solution_output == expected_output"
   ]
  },
  {
   "cell_type": "code",
   "execution_count": 4,
   "metadata": {},
   "outputs": [],
   "source": [
    "test_cases = [['[[0.707107, 0, 0, 0.707107], [0], [0, 1]]', 'no'], \n",
    "              ['[[1, 0, 0, 0], [0], [0, 1]]', 'yes'],\n",
    "              ['[[0.707107, 0, 0, 0.707107, 0, 0, 0, 0], [1, 2], [0, 1, 2]]', 'yes'],\n",
    "              ['[[0.707107, 0, 0, 0.707107, 0, 0, 0, 0], [0, 2], [0, 1, 2]]', 'no'],\n",
    "              ['[[0.5, 0, 0, 0.5, 0, 0, 0, 0, 0.5, 0, 0, 0.5, 0, 0, 0, 0], [0, 1], [0, 1, 2, 3]]', 'yes']]"
   ]
  },
  {
   "cell_type": "code",
   "execution_count": 5,
   "metadata": {},
   "outputs": [
    {
     "name": "stdout",
     "output_type": "stream",
     "text": [
      "Running test case 0 with input '[[0.707107, 0, 0, 0.707107], [0], [0, 1]]'...\n",
      "Correct!\n",
      "Running test case 1 with input '[[1, 0, 0, 0], [0], [0, 1]]'...\n",
      "Correct!\n",
      "Running test case 2 with input '[[0.707107, 0, 0, 0.707107, 0, 0, 0, 0], [1, 2], [0, 1, 2]]'...\n",
      "Correct!\n",
      "Running test case 3 with input '[[0.707107, 0, 0, 0.707107, 0, 0, 0, 0], [0, 2], [0, 1, 2]]'...\n",
      "Correct!\n",
      "Running test case 4 with input '[[0.5, 0, 0, 0.5, 0, 0, 0, 0, 0.5, 0, 0, 0.5, 0, 0, 0, 0], [0, 1], [0, 1, 2, 3]]'...\n",
      "Correct!\n"
     ]
    }
   ],
   "source": [
    "for i, (input_, expected_output) in enumerate(test_cases):\n",
    "    print(f\"Running test case {i} with input '{input_}'...\")\n",
    "\n",
    "    try:\n",
    "        output = run(input_)\n",
    "\n",
    "    except Exception as exc:\n",
    "        print(f\"Runtime Error. {exc}\")\n",
    "\n",
    "    else:\n",
    "        if message := check(output, expected_output):\n",
    "            print(f\"Wrong Answer. Have: '{output}'. Want: '{expected_output}'.\")\n",
    "\n",
    "        else:\n",
    "            print(\"Correct!\")"
   ]
  },
  {
   "cell_type": "code",
   "execution_count": null,
   "metadata": {},
   "outputs": [],
   "source": []
  }
 ],
 "metadata": {
  "kernelspec": {
   "display_name": "pennylane",
   "language": "python",
   "name": "pennylane"
  },
  "language_info": {
   "codemirror_mode": {
    "name": "ipython",
    "version": 3
   },
   "file_extension": ".py",
   "mimetype": "text/x-python",
   "name": "python",
   "nbconvert_exporter": "python",
   "pygments_lexer": "ipython3",
   "version": "3.8.10"
  },
  "orig_nbformat": 4
 },
 "nbformat": 4,
 "nbformat_minor": 2
}
