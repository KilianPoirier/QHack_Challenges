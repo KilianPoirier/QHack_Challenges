{
 "cells": [
  {
   "cell_type": "code",
   "execution_count": 32,
   "metadata": {},
   "outputs": [],
   "source": [
    "import json\n",
    "import pennylane as qml\n",
    "import pennylane.numpy as np"
   ]
  },
  {
   "cell_type": "code",
   "execution_count": 179,
   "metadata": {},
   "outputs": [],
   "source": [
    "def is_product(state, subsystem, wires):\n",
    "    \"\"\"Determines if a pure quantum state can be written as a product state between \n",
    "    a subsystem of wires and their compliment.\n",
    "\n",
    "    Args:\n",
    "        state (numpy.array): The quantum state of interest.\n",
    "        subsystem (list(int)): The subsystem used to determine if the state is a product state.\n",
    "        wires (list(int)): The wire/qubit labels for the state. Use these for creating a QNode if you wish!\n",
    "\n",
    "    Returns:\n",
    "        (str): \"yes\" if the state is a product state or \"no\" if it isn't.\n",
    "    \"\"\"\n",
    "    dev = qml.device(\"default.qubit\", wires=len(wires))\n",
    "\n",
    "    # Compute the original density matrix\n",
    "    @qml.qnode(device=dev)\n",
    "    def total_circuit():\n",
    "        qml.QubitStateVector(np.array(state), wires=wires)\n",
    "        return qml.density_matrix(wires)\n",
    "\n",
    "    # Compute the partial trace of the two subsystems of interest\n",
    "    subsystembar = [w for w in wires if w not in subsystem]\n",
    "\n",
    "    ## Subsystem\n",
    "    @qml.qnode(device=dev)\n",
    "    def sub_circuit():\n",
    "        qml.QubitStateVector(np.array(state), wires=wires)\n",
    "        return qml.density_matrix(subsystem)\n",
    "    subsystem_res = sub_circuit()\n",
    "\n",
    "    ## Residual subsystem\n",
    "    @qml.qnode(device=dev)\n",
    "    def sub_circuit_bar():\n",
    "        qml.QubitStateVector(np.array(state), wires=wires)\n",
    "        return qml.density_matrix(subsystembar)  \n",
    "    subsystembar_res = sub_circuit_bar()\n",
    "\n",
    "    @qml.qnode(device=dev)\n",
    "    def product_circuit():\n",
    "        qml.QubitStateVector(subsystem_res, wires=subsystem)\n",
    "        qml.QubitStateVector(subsystembar_res, wires=subsystembar)\n",
    "        return qml.density_matrix(wires)\n",
    "\n",
    "    print(qml.draw(product_circuit)())\n",
    "        \n",
    "    # Compare the product state of the partial traces and the input density matrix\n",
    "    # if np.allclose(np.kron(sub_circuit(), sub_circuit_bar()), state_dm, rtol=1e-6, atol=1e-8):\n",
    "    if np.allclose(product_circuit(), total_circuit(), rtol=1e-5, atol=1e-8):\n",
    "        print('hmmm')\n",
    "        is_product_str = \"yes\"\n",
    "    else:\n",
    "        is_product_str = \"no\"\n",
    "    \n",
    "    return is_product_str"
   ]
  },
  {
   "cell_type": "code",
   "execution_count": 180,
   "metadata": {},
   "outputs": [],
   "source": [
    "# These functions are responsible for testing the solution.\n",
    "def run(test_case_input: str) -> str:\n",
    "    ins = json.loads(test_case_input)\n",
    "    state, subsystem, wires = ins\n",
    "    state = np.array(state)\n",
    "    output = is_product(state, subsystem, wires)\n",
    "    return output\n",
    "\n",
    "def check(solution_output: str, expected_output: str) -> None:\n",
    "    assert solution_output == expected_output"
   ]
  },
  {
   "cell_type": "code",
   "execution_count": 181,
   "metadata": {},
   "outputs": [],
   "source": [
    "test_cases = [['[[0.707107, 0, 0, 0.707107], [0], [0, 1]]', 'no'], \n",
    "              ['[[1, 0, 0, 0], [0], [0, 1]]', 'yes'],\n",
    "              ['[[0.707107, 0, 0, 0.707107, 0, 0, 0, 0], [1, 2], [0, 1, 2]]', 'yes'],\n",
    "              ['[[0.707107, 0, 0, 0.707107, 0, 0, 0, 0], [0, 2], [0, 1, 2]]', 'no'],\n",
    "              ['[[0.5, 0, 0, 0.5, 0, 0, 0, 0, 0.5, 0, 0, 0.5, 0, 0, 0, 0], [0, 1], [0, 1, 2, 3]]', 'yes']]"
   ]
  },
  {
   "cell_type": "code",
   "execution_count": 182,
   "metadata": {},
   "outputs": [
    {
     "name": "stdout",
     "output_type": "stream",
     "text": [
      "Running test case 0 with input '[[0.707107, 0, 0, 0.707107], [0], [0, 1]]'...\n",
      "0: ──QubitStateVector(M0)─┤ ╭State\n",
      "1: ──QubitStateVector(M0)─┤ ╰State\n",
      "Runtime Error. Sum of amplitudes-squared does not equal one.\n",
      "Running test case 1 with input '[[1, 0, 0, 0], [0], [0, 1]]'...\n",
      "0: ──QubitStateVector(M0)─┤ ╭State\n",
      "1: ──QubitStateVector(M0)─┤ ╰State\n",
      "Runtime Error. Sum of amplitudes-squared does not equal one.\n",
      "Running test case 2 with input '[[0.707107, 0, 0, 0.707107, 0, 0, 0, 0], [1, 2], [0, 1, 2]]'...\n",
      "Runtime Error. The batch sizes of the quantum script operations do not match, they include 4 and 2.\n",
      "Running test case 3 with input '[[0.707107, 0, 0, 0.707107, 0, 0, 0, 0], [0, 2], [0, 1, 2]]'...\n",
      "Runtime Error. The batch sizes of the quantum script operations do not match, they include 4 and 2.\n",
      "Running test case 4 with input '[[0.5, 0, 0, 0.5, 0, 0, 0, 0, 0.5, 0, 0, 0.5, 0, 0, 0, 0], [0, 1], [0, 1, 2, 3]]'...\n",
      "0: ─╭QubitStateVector(M1)─┤ ╭State\n",
      "1: ─╰QubitStateVector(M1)─┤ ├State\n",
      "2: ─╭QubitStateVector(M0)─┤ ├State\n",
      "3: ─╰QubitStateVector(M0)─┤ ╰State\n",
      "Runtime Error. Sum of amplitudes-squared does not equal one.\n"
     ]
    }
   ],
   "source": [
    "for i, (input_, expected_output) in enumerate(test_cases):\n",
    "    print(f\"Running test case {i} with input '{input_}'...\")\n",
    "\n",
    "    try:\n",
    "        output = run(input_)\n",
    "\n",
    "    except Exception as exc:\n",
    "        print(f\"Runtime Error. {exc}\")\n",
    "\n",
    "    else:\n",
    "        if message := check(output, expected_output):\n",
    "            print(f\"Wrong Answer. Have: '{output}'. Want: '{expected_output}'.\")\n",
    "\n",
    "        else:\n",
    "            print(\"Correct!\")"
   ]
  },
  {
   "cell_type": "code",
   "execution_count": 104,
   "metadata": {},
   "outputs": [
    {
     "data": {
      "text/plain": [
       "tensor([0.50000031, 0.        , 0.        , 0.50000031, 0.        ,\n",
       "        0.        , 0.        , 0.        , 0.        , 0.        ,\n",
       "        0.        , 0.        , 0.50000031, 0.        , 0.        ,\n",
       "        0.50000031], requires_grad=True)"
      ]
     },
     "execution_count": 104,
     "metadata": {},
     "output_type": "execute_result"
    }
   ],
   "source": [
    "np.kron([0.707107, 0, 0, 0.707107], [0.707107, 0, 0, 0.707107])"
   ]
  },
  {
   "cell_type": "code",
   "execution_count": 186,
   "metadata": {},
   "outputs": [
    {
     "name": "stdout",
     "output_type": "stream",
     "text": [
      "[0.707107+0.j 0.      +0.j 0.      +0.j 0.707107+0.j 0.      +0.j\n",
      " 0.      +0.j 0.      +0.j 0.      +0.j]\n",
      "[0.707107+0.j 0.      +0.j 0.      +0.j 0.707107+0.j 0.      +0.j\n",
      " 0.      +0.j 0.      +0.j 0.      +0.j]\n"
     ]
    }
   ],
   "source": [
    "wires = [0, 1, 2]\n",
    "state = [0.707107, 0, 0, 0.707107, 0, 0, 0, 0]\n",
    "\n",
    "dev = qml.device(\"default.qubit\", wires=len(wires))\n",
    "\n",
    "# Compute the original density matrix\n",
    "@qml.qnode(device=dev)\n",
    "def total_circuit(w):\n",
    "    qml.QubitStateVector(np.array(state), wires=wires)\n",
    "    return qml.state()\n",
    "print(total_circuit(w=[0]))\n",
    "print(total_circuit(w=[1,2]))\n",
    "\n",
    "# print(np.kron(total_circuit(w=[0]), total_circuit(w=[1,2])))\n",
    "# print(total_circuit(wires))"
   ]
  },
  {
   "cell_type": "code",
   "execution_count": null,
   "metadata": {},
   "outputs": [],
   "source": []
  }
 ],
 "metadata": {
  "kernelspec": {
   "display_name": "pennylane",
   "language": "python",
   "name": "pennylane"
  },
  "language_info": {
   "codemirror_mode": {
    "name": "ipython",
    "version": 3
   },
   "file_extension": ".py",
   "mimetype": "text/x-python",
   "name": "python",
   "nbconvert_exporter": "python",
   "pygments_lexer": "ipython3",
   "version": "3.8.10"
  },
  "orig_nbformat": 4
 },
 "nbformat": 4,
 "nbformat_minor": 2
}
